{
 "cells": [
  {
   "cell_type": "code",
   "execution_count": 230,
   "id": "9a2326ad",
   "metadata": {},
   "outputs": [],
   "source": [
    "import pandas as pd\n",
    "import matplotlib.pyplot as plt\n",
    "from sklearn import datasets  \n",
    "import numpy as np\n",
    "from sklearn.model_selection import train_test_split\n",
    "from sklearn.tree import  DecisionTreeClassifier\n",
    "from sklearn import tree\n",
    "from sklearn.metrics import classification_report"
   ]
  },
  {
   "cell_type": "code",
   "execution_count": 231,
   "id": "8bbabcb4",
   "metadata": {},
   "outputs": [
    {
     "data": {
      "text/html": [
       "<div>\n",
       "<style scoped>\n",
       "    .dataframe tbody tr th:only-of-type {\n",
       "        vertical-align: middle;\n",
       "    }\n",
       "\n",
       "    .dataframe tbody tr th {\n",
       "        vertical-align: top;\n",
       "    }\n",
       "\n",
       "    .dataframe thead th {\n",
       "        text-align: right;\n",
       "    }\n",
       "</style>\n",
       "<table border=\"1\" class=\"dataframe\">\n",
       "  <thead>\n",
       "    <tr style=\"text-align: right;\">\n",
       "      <th></th>\n",
       "      <th>Undergrad</th>\n",
       "      <th>Marital.Status</th>\n",
       "      <th>Taxable.Income</th>\n",
       "      <th>City.Population</th>\n",
       "      <th>Work.Experience</th>\n",
       "      <th>Urban</th>\n",
       "    </tr>\n",
       "  </thead>\n",
       "  <tbody>\n",
       "    <tr>\n",
       "      <th>0</th>\n",
       "      <td>NO</td>\n",
       "      <td>Single</td>\n",
       "      <td>68833</td>\n",
       "      <td>50047</td>\n",
       "      <td>10</td>\n",
       "      <td>YES</td>\n",
       "    </tr>\n",
       "    <tr>\n",
       "      <th>1</th>\n",
       "      <td>YES</td>\n",
       "      <td>Divorced</td>\n",
       "      <td>33700</td>\n",
       "      <td>134075</td>\n",
       "      <td>18</td>\n",
       "      <td>YES</td>\n",
       "    </tr>\n",
       "    <tr>\n",
       "      <th>2</th>\n",
       "      <td>NO</td>\n",
       "      <td>Married</td>\n",
       "      <td>36925</td>\n",
       "      <td>160205</td>\n",
       "      <td>30</td>\n",
       "      <td>YES</td>\n",
       "    </tr>\n",
       "    <tr>\n",
       "      <th>3</th>\n",
       "      <td>YES</td>\n",
       "      <td>Single</td>\n",
       "      <td>50190</td>\n",
       "      <td>193264</td>\n",
       "      <td>15</td>\n",
       "      <td>YES</td>\n",
       "    </tr>\n",
       "    <tr>\n",
       "      <th>4</th>\n",
       "      <td>NO</td>\n",
       "      <td>Married</td>\n",
       "      <td>81002</td>\n",
       "      <td>27533</td>\n",
       "      <td>28</td>\n",
       "      <td>NO</td>\n",
       "    </tr>\n",
       "    <tr>\n",
       "      <th>...</th>\n",
       "      <td>...</td>\n",
       "      <td>...</td>\n",
       "      <td>...</td>\n",
       "      <td>...</td>\n",
       "      <td>...</td>\n",
       "      <td>...</td>\n",
       "    </tr>\n",
       "    <tr>\n",
       "      <th>595</th>\n",
       "      <td>YES</td>\n",
       "      <td>Divorced</td>\n",
       "      <td>76340</td>\n",
       "      <td>39492</td>\n",
       "      <td>7</td>\n",
       "      <td>YES</td>\n",
       "    </tr>\n",
       "    <tr>\n",
       "      <th>596</th>\n",
       "      <td>YES</td>\n",
       "      <td>Divorced</td>\n",
       "      <td>69967</td>\n",
       "      <td>55369</td>\n",
       "      <td>2</td>\n",
       "      <td>YES</td>\n",
       "    </tr>\n",
       "    <tr>\n",
       "      <th>597</th>\n",
       "      <td>NO</td>\n",
       "      <td>Divorced</td>\n",
       "      <td>47334</td>\n",
       "      <td>154058</td>\n",
       "      <td>0</td>\n",
       "      <td>YES</td>\n",
       "    </tr>\n",
       "    <tr>\n",
       "      <th>598</th>\n",
       "      <td>YES</td>\n",
       "      <td>Married</td>\n",
       "      <td>98592</td>\n",
       "      <td>180083</td>\n",
       "      <td>17</td>\n",
       "      <td>NO</td>\n",
       "    </tr>\n",
       "    <tr>\n",
       "      <th>599</th>\n",
       "      <td>NO</td>\n",
       "      <td>Divorced</td>\n",
       "      <td>96519</td>\n",
       "      <td>158137</td>\n",
       "      <td>16</td>\n",
       "      <td>NO</td>\n",
       "    </tr>\n",
       "  </tbody>\n",
       "</table>\n",
       "<p>600 rows × 6 columns</p>\n",
       "</div>"
      ],
      "text/plain": [
       "    Undergrad Marital.Status  Taxable.Income  City.Population  \\\n",
       "0          NO         Single           68833            50047   \n",
       "1         YES       Divorced           33700           134075   \n",
       "2          NO        Married           36925           160205   \n",
       "3         YES         Single           50190           193264   \n",
       "4          NO        Married           81002            27533   \n",
       "..        ...            ...             ...              ...   \n",
       "595       YES       Divorced           76340            39492   \n",
       "596       YES       Divorced           69967            55369   \n",
       "597        NO       Divorced           47334           154058   \n",
       "598       YES        Married           98592           180083   \n",
       "599        NO       Divorced           96519           158137   \n",
       "\n",
       "     Work.Experience Urban  \n",
       "0                 10   YES  \n",
       "1                 18   YES  \n",
       "2                 30   YES  \n",
       "3                 15   YES  \n",
       "4                 28    NO  \n",
       "..               ...   ...  \n",
       "595                7   YES  \n",
       "596                2   YES  \n",
       "597                0   YES  \n",
       "598               17    NO  \n",
       "599               16    NO  \n",
       "\n",
       "[600 rows x 6 columns]"
      ]
     },
     "execution_count": 231,
     "metadata": {},
     "output_type": "execute_result"
    }
   ],
   "source": [
    "df = pd.read_csv('D:\\excelR\\Decision_Trees\\Fraud_check.csv')\n",
    "df"
   ]
  },
  {
   "cell_type": "markdown",
   "id": "7025abf4",
   "metadata": {},
   "source": [
    "# EDA"
   ]
  },
  {
   "cell_type": "code",
   "execution_count": 232,
   "id": "138e6908",
   "metadata": {},
   "outputs": [
    {
     "name": "stdout",
     "output_type": "stream",
     "text": [
      "<class 'pandas.core.frame.DataFrame'>\n",
      "RangeIndex: 600 entries, 0 to 599\n",
      "Data columns (total 6 columns):\n",
      " #   Column           Non-Null Count  Dtype \n",
      "---  ------           --------------  ----- \n",
      " 0   Undergrad        600 non-null    object\n",
      " 1   Marital.Status   600 non-null    object\n",
      " 2   Taxable.Income   600 non-null    int64 \n",
      " 3   City.Population  600 non-null    int64 \n",
      " 4   Work.Experience  600 non-null    int64 \n",
      " 5   Urban            600 non-null    object\n",
      "dtypes: int64(3), object(3)\n",
      "memory usage: 28.2+ KB\n"
     ]
    }
   ],
   "source": [
    "df.info()"
   ]
  },
  {
   "cell_type": "code",
   "execution_count": 233,
   "id": "0acd972d",
   "metadata": {},
   "outputs": [
    {
     "data": {
      "text/plain": [
       "Undergrad          False\n",
       "Marital.Status     False\n",
       "Taxable.Income     False\n",
       "City.Population    False\n",
       "Work.Experience    False\n",
       "Urban              False\n",
       "dtype: bool"
      ]
     },
     "execution_count": 233,
     "metadata": {},
     "output_type": "execute_result"
    }
   ],
   "source": [
    "df.isnull().any()"
   ]
  },
  {
   "cell_type": "code",
   "execution_count": 234,
   "id": "c6b38fca",
   "metadata": {},
   "outputs": [
    {
     "data": {
      "text/html": [
       "<div>\n",
       "<style scoped>\n",
       "    .dataframe tbody tr th:only-of-type {\n",
       "        vertical-align: middle;\n",
       "    }\n",
       "\n",
       "    .dataframe tbody tr th {\n",
       "        vertical-align: top;\n",
       "    }\n",
       "\n",
       "    .dataframe thead th {\n",
       "        text-align: right;\n",
       "    }\n",
       "</style>\n",
       "<table border=\"1\" class=\"dataframe\">\n",
       "  <thead>\n",
       "    <tr style=\"text-align: right;\">\n",
       "      <th></th>\n",
       "      <th>Taxable.Income</th>\n",
       "      <th>City.Population</th>\n",
       "      <th>Work.Experience</th>\n",
       "    </tr>\n",
       "  </thead>\n",
       "  <tbody>\n",
       "    <tr>\n",
       "      <th>count</th>\n",
       "      <td>600.000000</td>\n",
       "      <td>600.000000</td>\n",
       "      <td>600.000000</td>\n",
       "    </tr>\n",
       "    <tr>\n",
       "      <th>mean</th>\n",
       "      <td>55208.375000</td>\n",
       "      <td>108747.368333</td>\n",
       "      <td>15.558333</td>\n",
       "    </tr>\n",
       "    <tr>\n",
       "      <th>std</th>\n",
       "      <td>26204.827597</td>\n",
       "      <td>49850.075134</td>\n",
       "      <td>8.842147</td>\n",
       "    </tr>\n",
       "    <tr>\n",
       "      <th>min</th>\n",
       "      <td>10003.000000</td>\n",
       "      <td>25779.000000</td>\n",
       "      <td>0.000000</td>\n",
       "    </tr>\n",
       "    <tr>\n",
       "      <th>25%</th>\n",
       "      <td>32871.500000</td>\n",
       "      <td>66966.750000</td>\n",
       "      <td>8.000000</td>\n",
       "    </tr>\n",
       "    <tr>\n",
       "      <th>50%</th>\n",
       "      <td>55074.500000</td>\n",
       "      <td>106493.500000</td>\n",
       "      <td>15.000000</td>\n",
       "    </tr>\n",
       "    <tr>\n",
       "      <th>75%</th>\n",
       "      <td>78611.750000</td>\n",
       "      <td>150114.250000</td>\n",
       "      <td>24.000000</td>\n",
       "    </tr>\n",
       "    <tr>\n",
       "      <th>max</th>\n",
       "      <td>99619.000000</td>\n",
       "      <td>199778.000000</td>\n",
       "      <td>30.000000</td>\n",
       "    </tr>\n",
       "  </tbody>\n",
       "</table>\n",
       "</div>"
      ],
      "text/plain": [
       "       Taxable.Income  City.Population  Work.Experience\n",
       "count      600.000000       600.000000       600.000000\n",
       "mean     55208.375000    108747.368333        15.558333\n",
       "std      26204.827597     49850.075134         8.842147\n",
       "min      10003.000000     25779.000000         0.000000\n",
       "25%      32871.500000     66966.750000         8.000000\n",
       "50%      55074.500000    106493.500000        15.000000\n",
       "75%      78611.750000    150114.250000        24.000000\n",
       "max      99619.000000    199778.000000        30.000000"
      ]
     },
     "execution_count": 234,
     "metadata": {},
     "output_type": "execute_result"
    }
   ],
   "source": [
    "df.describe()"
   ]
  },
  {
   "cell_type": "code",
   "execution_count": 235,
   "id": "192af979",
   "metadata": {},
   "outputs": [
    {
     "data": {
      "text/html": [
       "<div>\n",
       "<style scoped>\n",
       "    .dataframe tbody tr th:only-of-type {\n",
       "        vertical-align: middle;\n",
       "    }\n",
       "\n",
       "    .dataframe tbody tr th {\n",
       "        vertical-align: top;\n",
       "    }\n",
       "\n",
       "    .dataframe thead th {\n",
       "        text-align: right;\n",
       "    }\n",
       "</style>\n",
       "<table border=\"1\" class=\"dataframe\">\n",
       "  <thead>\n",
       "    <tr style=\"text-align: right;\">\n",
       "      <th></th>\n",
       "      <th>Undergrad</th>\n",
       "      <th>Marital.Status</th>\n",
       "      <th>Taxable.Income</th>\n",
       "      <th>City.Population</th>\n",
       "      <th>Work.Experience</th>\n",
       "      <th>Urban</th>\n",
       "    </tr>\n",
       "  </thead>\n",
       "  <tbody>\n",
       "    <tr>\n",
       "      <th>0</th>\n",
       "      <td>0</td>\n",
       "      <td>2</td>\n",
       "      <td>68833</td>\n",
       "      <td>50047</td>\n",
       "      <td>10</td>\n",
       "      <td>1</td>\n",
       "    </tr>\n",
       "    <tr>\n",
       "      <th>1</th>\n",
       "      <td>1</td>\n",
       "      <td>0</td>\n",
       "      <td>33700</td>\n",
       "      <td>134075</td>\n",
       "      <td>18</td>\n",
       "      <td>1</td>\n",
       "    </tr>\n",
       "    <tr>\n",
       "      <th>2</th>\n",
       "      <td>0</td>\n",
       "      <td>1</td>\n",
       "      <td>36925</td>\n",
       "      <td>160205</td>\n",
       "      <td>30</td>\n",
       "      <td>1</td>\n",
       "    </tr>\n",
       "    <tr>\n",
       "      <th>3</th>\n",
       "      <td>1</td>\n",
       "      <td>2</td>\n",
       "      <td>50190</td>\n",
       "      <td>193264</td>\n",
       "      <td>15</td>\n",
       "      <td>1</td>\n",
       "    </tr>\n",
       "    <tr>\n",
       "      <th>4</th>\n",
       "      <td>0</td>\n",
       "      <td>1</td>\n",
       "      <td>81002</td>\n",
       "      <td>27533</td>\n",
       "      <td>28</td>\n",
       "      <td>0</td>\n",
       "    </tr>\n",
       "  </tbody>\n",
       "</table>\n",
       "</div>"
      ],
      "text/plain": [
       "   Undergrad  Marital.Status  Taxable.Income  City.Population  \\\n",
       "0          0               2           68833            50047   \n",
       "1          1               0           33700           134075   \n",
       "2          0               1           36925           160205   \n",
       "3          1               2           50190           193264   \n",
       "4          0               1           81002            27533   \n",
       "\n",
       "   Work.Experience  Urban  \n",
       "0               10      1  \n",
       "1               18      1  \n",
       "2               30      1  \n",
       "3               15      1  \n",
       "4               28      0  "
      ]
     },
     "execution_count": 235,
     "metadata": {},
     "output_type": "execute_result"
    }
   ],
   "source": [
    "from sklearn.preprocessing import LabelEncoder\n",
    "cols = ['Undergrad', 'Marital.Status', 'Urban']\n",
    "df[cols] = df[cols].apply(LabelEncoder().fit_transform)\n",
    "df.head()"
   ]
  },
  {
   "cell_type": "code",
   "execution_count": 236,
   "id": "9824849a",
   "metadata": {},
   "outputs": [
    {
     "data": {
      "image/png": "[encoded data removed]",
      "text/plain": [
       "<Figure size 1152x360 with 2 Axes>"
      ]
     },
     "metadata": {
      "needs_background": "light"
     },
     "output_type": "display_data"
    }
   ],
   "source": [
    "import seaborn as sns \n",
    "plt.figure(figsize = (16,5))\n",
    "corr_plot = sns.heatmap(df.corr(),annot = True,linewidths=3)\n",
    "plt.title(\"Correlation plot\")\n",
    "plt.show()"
   ]
  },
  {
   "cell_type": "code",
   "execution_count": 237,
   "id": "3619377e",
   "metadata": {},
   "outputs": [
    {
     "data": {
      "text/html": [
       "<div>\n",
       "<style scoped>\n",
       "    .dataframe tbody tr th:only-of-type {\n",
       "        vertical-align: middle;\n",
       "    }\n",
       "\n",
       "    .dataframe tbody tr th {\n",
       "        vertical-align: top;\n",
       "    }\n",
       "\n",
       "    .dataframe thead th {\n",
       "        text-align: right;\n",
       "    }\n",
       "</style>\n",
       "<table border=\"1\" class=\"dataframe\">\n",
       "  <thead>\n",
       "    <tr style=\"text-align: right;\">\n",
       "      <th></th>\n",
       "      <th>Undergrad</th>\n",
       "      <th>Marital.Status</th>\n",
       "      <th>Taxable.Income</th>\n",
       "      <th>City.Population</th>\n",
       "      <th>Work.Experience</th>\n",
       "      <th>Urban</th>\n",
       "      <th>Tax_labels</th>\n",
       "    </tr>\n",
       "  </thead>\n",
       "  <tbody>\n",
       "    <tr>\n",
       "      <th>0</th>\n",
       "      <td>0</td>\n",
       "      <td>2</td>\n",
       "      <td>68833</td>\n",
       "      <td>50047</td>\n",
       "      <td>10</td>\n",
       "      <td>1</td>\n",
       "      <td>Good</td>\n",
       "    </tr>\n",
       "    <tr>\n",
       "      <th>1</th>\n",
       "      <td>1</td>\n",
       "      <td>0</td>\n",
       "      <td>33700</td>\n",
       "      <td>134075</td>\n",
       "      <td>18</td>\n",
       "      <td>1</td>\n",
       "      <td>Good</td>\n",
       "    </tr>\n",
       "    <tr>\n",
       "      <th>2</th>\n",
       "      <td>0</td>\n",
       "      <td>1</td>\n",
       "      <td>36925</td>\n",
       "      <td>160205</td>\n",
       "      <td>30</td>\n",
       "      <td>1</td>\n",
       "      <td>Good</td>\n",
       "    </tr>\n",
       "    <tr>\n",
       "      <th>3</th>\n",
       "      <td>1</td>\n",
       "      <td>2</td>\n",
       "      <td>50190</td>\n",
       "      <td>193264</td>\n",
       "      <td>15</td>\n",
       "      <td>1</td>\n",
       "      <td>Good</td>\n",
       "    </tr>\n",
       "    <tr>\n",
       "      <th>4</th>\n",
       "      <td>0</td>\n",
       "      <td>1</td>\n",
       "      <td>81002</td>\n",
       "      <td>27533</td>\n",
       "      <td>28</td>\n",
       "      <td>0</td>\n",
       "      <td>Good</td>\n",
       "    </tr>\n",
       "    <tr>\n",
       "      <th>...</th>\n",
       "      <td>...</td>\n",
       "      <td>...</td>\n",
       "      <td>...</td>\n",
       "      <td>...</td>\n",
       "      <td>...</td>\n",
       "      <td>...</td>\n",
       "      <td>...</td>\n",
       "    </tr>\n",
       "    <tr>\n",
       "      <th>595</th>\n",
       "      <td>1</td>\n",
       "      <td>0</td>\n",
       "      <td>76340</td>\n",
       "      <td>39492</td>\n",
       "      <td>7</td>\n",
       "      <td>1</td>\n",
       "      <td>Good</td>\n",
       "    </tr>\n",
       "    <tr>\n",
       "      <th>596</th>\n",
       "      <td>1</td>\n",
       "      <td>0</td>\n",
       "      <td>69967</td>\n",
       "      <td>55369</td>\n",
       "      <td>2</td>\n",
       "      <td>1</td>\n",
       "      <td>Good</td>\n",
       "    </tr>\n",
       "    <tr>\n",
       "      <th>597</th>\n",
       "      <td>0</td>\n",
       "      <td>0</td>\n",
       "      <td>47334</td>\n",
       "      <td>154058</td>\n",
       "      <td>0</td>\n",
       "      <td>1</td>\n",
       "      <td>Good</td>\n",
       "    </tr>\n",
       "    <tr>\n",
       "      <th>598</th>\n",
       "      <td>1</td>\n",
       "      <td>1</td>\n",
       "      <td>98592</td>\n",
       "      <td>180083</td>\n",
       "      <td>17</td>\n",
       "      <td>0</td>\n",
       "      <td>Good</td>\n",
       "    </tr>\n",
       "    <tr>\n",
       "      <th>599</th>\n",
       "      <td>0</td>\n",
       "      <td>0</td>\n",
       "      <td>96519</td>\n",
       "      <td>158137</td>\n",
       "      <td>16</td>\n",
       "      <td>0</td>\n",
       "      <td>Good</td>\n",
       "    </tr>\n",
       "  </tbody>\n",
       "</table>\n",
       "<p>600 rows × 7 columns</p>\n",
       "</div>"
      ],
      "text/plain": [
       "     Undergrad  Marital.Status  Taxable.Income  City.Population  \\\n",
       "0            0               2           68833            50047   \n",
       "1            1               0           33700           134075   \n",
       "2            0               1           36925           160205   \n",
       "3            1               2           50190           193264   \n",
       "4            0               1           81002            27533   \n",
       "..         ...             ...             ...              ...   \n",
       "595          1               0           76340            39492   \n",
       "596          1               0           69967            55369   \n",
       "597          0               0           47334           154058   \n",
       "598          1               1           98592           180083   \n",
       "599          0               0           96519           158137   \n",
       "\n",
       "     Work.Experience  Urban Tax_labels  \n",
       "0                 10      1       Good  \n",
       "1                 18      1       Good  \n",
       "2                 30      1       Good  \n",
       "3                 15      1       Good  \n",
       "4                 28      0       Good  \n",
       "..               ...    ...        ...  \n",
       "595                7      1       Good  \n",
       "596                2      1       Good  \n",
       "597                0      1       Good  \n",
       "598               17      0       Good  \n",
       "599               16      0       Good  \n",
       "\n",
       "[600 rows x 7 columns]"
      ]
     },
     "execution_count": 237,
     "metadata": {},
     "output_type": "execute_result"
    }
   ],
   "source": [
    "df['Tax_labels'] = pd.cut(x=df['Taxable.Income'], bins=[0,30000,99999], labels=['Risky', 'Good'], right=False)\n",
    "df"
   ]
  },
  {
   "cell_type": "markdown",
   "id": "c00eaa85",
   "metadata": {},
   "source": [
    "## Model Validation"
   ]
  },
  {
   "cell_type": "markdown",
   "id": "f3c354b7",
   "metadata": {},
   "source": [
    "# Train-Test-Split"
   ]
  },
  {
   "cell_type": "code",
   "execution_count": 199,
   "id": "61cb3857",
   "metadata": {},
   "outputs": [
    {
     "name": "stdout",
     "output_type": "stream",
     "text": [
      "train size X :  (480, 6)\n",
      "train size y :  (480,)\n",
      "test size X :  (120, 6)\n",
      "test size y :  (120,)\n"
     ]
    }
   ],
   "source": [
    "from sklearn.model_selection import train_test_split\n",
    "y = df.pop(\"Tax_labels\")\n",
    "X = df.iloc[:,0:7]\n",
    "\n",
    "X_train,X_test,y_train,y_test = train_test_split(X,y,random_state=0,train_size=0.8)\n",
    "\n",
    "print(\"train size X : \",X_train.shape)\n",
    "print(\"train size y : \",y_train.shape)\n",
    "print(\"test size X : \",X_test.shape)\n",
    "print(\"test size y : \",y_test.shape)"
   ]
  },
  {
   "cell_type": "markdown",
   "id": "637370cc",
   "metadata": {},
   "source": [
    "# GridSearch Cross Validation"
   ]
  },
  {
   "cell_type": "code",
   "execution_count": 238,
   "id": "7d493799",
   "metadata": {},
   "outputs": [
    {
     "name": "stdout",
     "output_type": "stream",
     "text": [
      "0.9983333333333334 {'max_depth': 3}\n"
     ]
    }
   ],
   "source": [
    "from sklearn.model_selection import GridSearchCV\n",
    "y2 = df.pop(\"Tax_labels\")\n",
    "x2 = df.iloc[:,0:7]\n",
    "\n",
    "parameters = {'max_depth':range(3,20)}\n",
    "clf = GridSearchCV(tree.DecisionTreeClassifier(), parameters, n_jobs=4)\n",
    "clf.fit(X=x2, y=y2)\n",
    "tree_model = clf.best_estimator_\n",
    "print (clf.best_score_, clf.best_params_) "
   ]
  },
  {
   "cell_type": "markdown",
   "id": "6ee0709e",
   "metadata": {},
   "source": [
    "# Building Decision Tree Classifier using Entropy Criteria"
   ]
  },
  {
   "cell_type": "code",
   "execution_count": 200,
   "id": "cd5684d0",
   "metadata": {},
   "outputs": [
    {
     "data": {
      "text/plain": [
       "DecisionTreeClassifier(criterion='entropy', max_depth=3)"
      ]
     },
     "execution_count": 200,
     "metadata": {},
     "output_type": "execute_result"
    }
   ],
   "source": [
    "model = DecisionTreeClassifier(criterion = 'entropy',max_depth=3)\n",
    "model.fit(X_train,y_train)"
   ]
  },
  {
   "cell_type": "code",
   "execution_count": 201,
   "id": "1b1369e0",
   "metadata": {},
   "outputs": [
    {
     "data": {
      "image/png": "[encoded data removed]",
      "text/plain": [
       "<Figure size 1080x720 with 1 Axes>"
      ]
     },
     "metadata": {
      "needs_background": "light"
     },
     "output_type": "display_data"
    }
   ],
   "source": [
    "fig = plt.figure(figsize=(15,10))\n",
    "tree.plot_tree(model);"
   ]
  },
  {
   "cell_type": "code",
   "execution_count": 202,
   "id": "ed128b99",
   "metadata": {},
   "outputs": [
    {
     "data": {
      "text/plain": [
       "Good     95\n",
       "Risky    25\n",
       "dtype: int64"
      ]
     },
     "execution_count": 202,
     "metadata": {},
     "output_type": "execute_result"
    }
   ],
   "source": [
    "#Predicting on test data\n",
    "preds = model.predict(X_test) # predicting on test data set \n",
    "pd.Series(preds).value_counts() # getting the count of each category "
   ]
  },
  {
   "cell_type": "code",
   "execution_count": 203,
   "id": "2c49c0ad",
   "metadata": {},
   "outputs": [
    {
     "data": {
      "text/html": [
       "<div>\n",
       "<style scoped>\n",
       "    .dataframe tbody tr th:only-of-type {\n",
       "        vertical-align: middle;\n",
       "    }\n",
       "\n",
       "    .dataframe tbody tr th {\n",
       "        vertical-align: top;\n",
       "    }\n",
       "\n",
       "    .dataframe thead th {\n",
       "        text-align: right;\n",
       "    }\n",
       "</style>\n",
       "<table border=\"1\" class=\"dataframe\">\n",
       "  <thead>\n",
       "    <tr style=\"text-align: right;\">\n",
       "      <th>col_0</th>\n",
       "      <th>Good</th>\n",
       "      <th>Risky</th>\n",
       "    </tr>\n",
       "    <tr>\n",
       "      <th>Tax_labels</th>\n",
       "      <th></th>\n",
       "      <th></th>\n",
       "    </tr>\n",
       "  </thead>\n",
       "  <tbody>\n",
       "    <tr>\n",
       "      <th>Risky</th>\n",
       "      <td>0</td>\n",
       "      <td>25</td>\n",
       "    </tr>\n",
       "    <tr>\n",
       "      <th>Good</th>\n",
       "      <td>95</td>\n",
       "      <td>0</td>\n",
       "    </tr>\n",
       "  </tbody>\n",
       "</table>\n",
       "</div>"
      ],
      "text/plain": [
       "col_0       Good  Risky\n",
       "Tax_labels             \n",
       "Risky          0     25\n",
       "Good          95      0"
      ]
     },
     "execution_count": 203,
     "metadata": {},
     "output_type": "execute_result"
    }
   ],
   "source": [
    "pd.crosstab(y_test,preds) # getting the 2 way table to understand the correct and wrong predictions"
   ]
  },
  {
   "cell_type": "code",
   "execution_count": 204,
   "id": "7feeaa3c",
   "metadata": {},
   "outputs": [
    {
     "name": "stdout",
     "output_type": "stream",
     "text": [
      "Classification report:\n",
      "Accuracy:  1.0\n",
      "              precision    recall  f1-score   support\n",
      "\n",
      "        Good       1.00      1.00      1.00        95\n",
      "       Risky       1.00      1.00      1.00        25\n",
      "\n",
      "    accuracy                           1.00       120\n",
      "   macro avg       1.00      1.00      1.00       120\n",
      "weighted avg       1.00      1.00      1.00       120\n",
      "\n",
      "Confusion matrix:\n",
      "[[95  0]\n",
      " [ 0 25]]\n"
     ]
    }
   ],
   "source": [
    "from sklearn.metrics import accuracy_score,confusion_matrix, classification_report\n",
    "accuracy = accuracy_score(y_test,preds)\n",
    "report = classification_report(y_test,preds)\n",
    "cm = confusion_matrix(y_test,preds)\n",
    "\n",
    "print(\"Classification report:\")\n",
    "print(\"Accuracy: \", accuracy)\n",
    "print(report)\n",
    "print(\"Confusion matrix:\")\n",
    "print(cm)"
   ]
  },
  {
   "cell_type": "markdown",
   "id": "4b46dd9a",
   "metadata": {},
   "source": [
    "# Building Decision Tree Classifier (CART) using Gini Criteria"
   ]
  },
  {
   "cell_type": "code",
   "execution_count": 205,
   "id": "f35a25a3",
   "metadata": {},
   "outputs": [
    {
     "data": {
      "text/plain": [
       "DecisionTreeClassifier(max_depth=3)"
      ]
     },
     "execution_count": 205,
     "metadata": {},
     "output_type": "execute_result"
    }
   ],
   "source": [
    "from sklearn.tree import DecisionTreeClassifier\n",
    "model2 = DecisionTreeClassifier(criterion='gini', max_depth=3)\n",
    "model2.fit(X_train,y_train)"
   ]
  },
  {
   "cell_type": "code",
   "execution_count": 206,
   "id": "d9fc8461",
   "metadata": {},
   "outputs": [
    {
     "data": {
      "image/png": "[encoded data removed]",
      "text/plain": [
       "<Figure size 1080x720 with 1 Axes>"
      ]
     },
     "metadata": {
      "needs_background": "light"
     },
     "output_type": "display_data"
    }
   ],
   "source": [
    "fig = plt.figure(figsize=(15,10))\n",
    "tree.plot_tree(model);"
   ]
  },
  {
   "cell_type": "code",
   "execution_count": 207,
   "id": "b30526d6",
   "metadata": {},
   "outputs": [
    {
     "data": {
      "text/plain": [
       "Good     95\n",
       "Risky    25\n",
       "dtype: int64"
      ]
     },
     "execution_count": 207,
     "metadata": {},
     "output_type": "execute_result"
    }
   ],
   "source": [
    "#Predicting on test data\n",
    "preds2 = model2.predict(X_test) # predicting on test data set \n",
    "pd.Series(preds).value_counts() # getting the count of each category "
   ]
  },
  {
   "cell_type": "code",
   "execution_count": 208,
   "id": "4db336a9",
   "metadata": {},
   "outputs": [
    {
     "data": {
      "text/html": [
       "<div>\n",
       "<style scoped>\n",
       "    .dataframe tbody tr th:only-of-type {\n",
       "        vertical-align: middle;\n",
       "    }\n",
       "\n",
       "    .dataframe tbody tr th {\n",
       "        vertical-align: top;\n",
       "    }\n",
       "\n",
       "    .dataframe thead th {\n",
       "        text-align: right;\n",
       "    }\n",
       "</style>\n",
       "<table border=\"1\" class=\"dataframe\">\n",
       "  <thead>\n",
       "    <tr style=\"text-align: right;\">\n",
       "      <th>Tax_labels</th>\n",
       "      <th>Risky</th>\n",
       "      <th>Good</th>\n",
       "    </tr>\n",
       "    <tr>\n",
       "      <th>row_0</th>\n",
       "      <th></th>\n",
       "      <th></th>\n",
       "    </tr>\n",
       "  </thead>\n",
       "  <tbody>\n",
       "    <tr>\n",
       "      <th>Good</th>\n",
       "      <td>0</td>\n",
       "      <td>95</td>\n",
       "    </tr>\n",
       "    <tr>\n",
       "      <th>Risky</th>\n",
       "      <td>25</td>\n",
       "      <td>0</td>\n",
       "    </tr>\n",
       "  </tbody>\n",
       "</table>\n",
       "</div>"
      ],
      "text/plain": [
       "Tax_labels  Risky  Good\n",
       "row_0                  \n",
       "Good            0    95\n",
       "Risky          25     0"
      ]
     },
     "execution_count": 208,
     "metadata": {},
     "output_type": "execute_result"
    }
   ],
   "source": [
    "pd.crosstab(preds2,y_test) # getting the 2 way table to understand the correct and wrong predictions"
   ]
  },
  {
   "cell_type": "code",
   "execution_count": 209,
   "id": "5f5afe80",
   "metadata": {},
   "outputs": [
    {
     "name": "stdout",
     "output_type": "stream",
     "text": [
      "Classification report:\n",
      "Accuracy:  1.0\n",
      "              precision    recall  f1-score   support\n",
      "\n",
      "        Good       1.00      1.00      1.00        95\n",
      "       Risky       1.00      1.00      1.00        25\n",
      "\n",
      "    accuracy                           1.00       120\n",
      "   macro avg       1.00      1.00      1.00       120\n",
      "weighted avg       1.00      1.00      1.00       120\n",
      "\n",
      "Confusion matrix:\n",
      "[[95  0]\n",
      " [ 0 25]]\n"
     ]
    }
   ],
   "source": [
    "from sklearn.metrics import accuracy_score,confusion_matrix, classification_report\n",
    "accuracy = accuracy_score(y_test,preds2)\n",
    "report = classification_report(y_test,preds2)\n",
    "cm = confusion_matrix(y_test,preds2)\n",
    "\n",
    "print(\"Classification report:\")\n",
    "print(\"Accuracy: \", accuracy)\n",
    "print(report)\n",
    "print(\"Confusion matrix:\")\n",
    "print(cm)"
   ]
  },
  {
   "cell_type": "markdown",
   "id": "4c014127",
   "metadata": {},
   "source": [
    "# Building Decision Tree Regressor"
   ]
  },
  {
   "cell_type": "markdown",
   "id": "be0dc1c8",
   "metadata": {},
   "source": [
    "# Normalizing Data"
   ]
  },
  {
   "cell_type": "code",
   "execution_count": 245,
   "id": "bf7d9381",
   "metadata": {},
   "outputs": [
    {
     "data": {
      "text/html": [
       "<div>\n",
       "<style scoped>\n",
       "    .dataframe tbody tr th:only-of-type {\n",
       "        vertical-align: middle;\n",
       "    }\n",
       "\n",
       "    .dataframe tbody tr th {\n",
       "        vertical-align: top;\n",
       "    }\n",
       "\n",
       "    .dataframe thead th {\n",
       "        text-align: right;\n",
       "    }\n",
       "</style>\n",
       "<table border=\"1\" class=\"dataframe\">\n",
       "  <thead>\n",
       "    <tr style=\"text-align: right;\">\n",
       "      <th></th>\n",
       "      <th>Undergrad</th>\n",
       "      <th>Marital.Status</th>\n",
       "      <th>Taxable.Income</th>\n",
       "      <th>City.Population</th>\n",
       "      <th>Work.Experience</th>\n",
       "      <th>Urban</th>\n",
       "    </tr>\n",
       "  </thead>\n",
       "  <tbody>\n",
       "    <tr>\n",
       "      <th>0</th>\n",
       "      <td>0.000000</td>\n",
       "      <td>0.000024</td>\n",
       "      <td>0.808811</td>\n",
       "      <td>0.588069</td>\n",
       "      <td>0.000118</td>\n",
       "      <td>0.000012</td>\n",
       "    </tr>\n",
       "    <tr>\n",
       "      <th>1</th>\n",
       "      <td>0.000007</td>\n",
       "      <td>0.000000</td>\n",
       "      <td>0.243769</td>\n",
       "      <td>0.969833</td>\n",
       "      <td>0.000130</td>\n",
       "      <td>0.000007</td>\n",
       "    </tr>\n",
       "    <tr>\n",
       "      <th>2</th>\n",
       "      <td>0.000000</td>\n",
       "      <td>0.000006</td>\n",
       "      <td>0.224597</td>\n",
       "      <td>0.974452</td>\n",
       "      <td>0.000182</td>\n",
       "      <td>0.000006</td>\n",
       "    </tr>\n",
       "    <tr>\n",
       "      <th>3</th>\n",
       "      <td>0.000005</td>\n",
       "      <td>0.000010</td>\n",
       "      <td>0.251359</td>\n",
       "      <td>0.967894</td>\n",
       "      <td>0.000075</td>\n",
       "      <td>0.000005</td>\n",
       "    </tr>\n",
       "    <tr>\n",
       "      <th>4</th>\n",
       "      <td>0.000000</td>\n",
       "      <td>0.000012</td>\n",
       "      <td>0.946800</td>\n",
       "      <td>0.321822</td>\n",
       "      <td>0.000327</td>\n",
       "      <td>0.000000</td>\n",
       "    </tr>\n",
       "  </tbody>\n",
       "</table>\n",
       "</div>"
      ],
      "text/plain": [
       "   Undergrad  Marital.Status  Taxable.Income  City.Population  \\\n",
       "0   0.000000        0.000024        0.808811         0.588069   \n",
       "1   0.000007        0.000000        0.243769         0.969833   \n",
       "2   0.000000        0.000006        0.224597         0.974452   \n",
       "3   0.000005        0.000010        0.251359         0.967894   \n",
       "4   0.000000        0.000012        0.946800         0.321822   \n",
       "\n",
       "   Work.Experience     Urban  \n",
       "0         0.000118  0.000012  \n",
       "1         0.000130  0.000007  \n",
       "2         0.000182  0.000006  \n",
       "3         0.000075  0.000005  \n",
       "4         0.000327  0.000000  "
      ]
     },
     "execution_count": 245,
     "metadata": {},
     "output_type": "execute_result"
    }
   ],
   "source": [
    "from sklearn.preprocessing import normalize\n",
    "df_norm = normalize(df.iloc[:,0:7])\n",
    "df_norm=pd.DataFrame(df_norm,columns=df.columns)\n",
    "df_norm.head()"
   ]
  },
  {
   "cell_type": "markdown",
   "id": "0fccb7fd",
   "metadata": {},
   "source": [
    "# Model Validation "
   ]
  },
  {
   "cell_type": "markdown",
   "id": "6f3a64e2",
   "metadata": {},
   "source": [
    "# Train-Test-Split"
   ]
  },
  {
   "cell_type": "code",
   "execution_count": 211,
   "id": "6de9dae8",
   "metadata": {},
   "outputs": [
    {
     "name": "stdout",
     "output_type": "stream",
     "text": [
      "train size X :  (480, 5)\n",
      "train size y :  (480,)\n",
      "test size X :  (120, 5)\n",
      "test size y :  (120,)\n"
     ]
    }
   ],
   "source": [
    "from sklearn.model_selection import train_test_split\n",
    "y1 = df.pop(\"Taxable.Income\")\n",
    "X1 = pd.concat([df_norm.iloc[:,0:3],df_norm.iloc[:,4:7]],axis=1)\n",
    "\n",
    "X1_train,X1_test,y1_train,y1_test = train_test_split(X1,y1,random_state=45,train_size=0.8)\n",
    "\n",
    "print(\"train size X : \",X1_train.shape)\n",
    "print(\"train size y : \",y1_train.shape)\n",
    "print(\"test size X : \",X1_test.shape)\n",
    "print(\"test size y : \",y1_test.shape)\n"
   ]
  },
  {
   "cell_type": "code",
   "execution_count": 212,
   "id": "5ba36945",
   "metadata": {},
   "outputs": [],
   "source": [
    "from sklearn.tree import DecisionTreeRegressor\n",
    "model = DecisionTreeRegressor()\n",
    "df2=model.fit(X1_train, y1_train)"
   ]
  },
  {
   "cell_type": "code",
   "execution_count": 213,
   "id": "e7b28cd1",
   "metadata": {},
   "outputs": [
    {
     "data": {
      "text/plain": [
       "0.8343363256531539"
      ]
     },
     "execution_count": 213,
     "metadata": {},
     "output_type": "execute_result"
    }
   ],
   "source": [
    "#Find the accuracy\n",
    "df2.score(X1_test,y1_test)"
   ]
  },
  {
   "cell_type": "code",
   "execution_count": 214,
   "id": "6668e3c2",
   "metadata": {},
   "outputs": [],
   "source": [
    "y_pred = df2.predict(X1_test)"
   ]
  },
  {
   "cell_type": "code",
   "execution_count": 215,
   "id": "e6617f0a",
   "metadata": {},
   "outputs": [
    {
     "data": {
      "text/html": [
       "<div>\n",
       "<style scoped>\n",
       "    .dataframe tbody tr th:only-of-type {\n",
       "        vertical-align: middle;\n",
       "    }\n",
       "\n",
       "    .dataframe tbody tr th {\n",
       "        vertical-align: top;\n",
       "    }\n",
       "\n",
       "    .dataframe thead th {\n",
       "        text-align: right;\n",
       "    }\n",
       "</style>\n",
       "<table border=\"1\" class=\"dataframe\">\n",
       "  <thead>\n",
       "    <tr style=\"text-align: right;\">\n",
       "      <th></th>\n",
       "      <th>Actual</th>\n",
       "      <th>Predicted</th>\n",
       "    </tr>\n",
       "  </thead>\n",
       "  <tbody>\n",
       "    <tr>\n",
       "      <th>491</th>\n",
       "      <td>24541</td>\n",
       "      <td>47425.0</td>\n",
       "    </tr>\n",
       "    <tr>\n",
       "      <th>4</th>\n",
       "      <td>81002</td>\n",
       "      <td>62873.0</td>\n",
       "    </tr>\n",
       "    <tr>\n",
       "      <th>64</th>\n",
       "      <td>62158</td>\n",
       "      <td>62067.0</td>\n",
       "    </tr>\n",
       "    <tr>\n",
       "      <th>407</th>\n",
       "      <td>33138</td>\n",
       "      <td>42063.0</td>\n",
       "    </tr>\n",
       "    <tr>\n",
       "      <th>61</th>\n",
       "      <td>26972</td>\n",
       "      <td>27520.0</td>\n",
       "    </tr>\n",
       "    <tr>\n",
       "      <th>...</th>\n",
       "      <td>...</td>\n",
       "      <td>...</td>\n",
       "    </tr>\n",
       "    <tr>\n",
       "      <th>325</th>\n",
       "      <td>94013</td>\n",
       "      <td>91462.0</td>\n",
       "    </tr>\n",
       "    <tr>\n",
       "      <th>139</th>\n",
       "      <td>50087</td>\n",
       "      <td>60822.0</td>\n",
       "    </tr>\n",
       "    <tr>\n",
       "      <th>335</th>\n",
       "      <td>33301</td>\n",
       "      <td>43128.0</td>\n",
       "    </tr>\n",
       "    <tr>\n",
       "      <th>457</th>\n",
       "      <td>11804</td>\n",
       "      <td>17440.0</td>\n",
       "    </tr>\n",
       "    <tr>\n",
       "      <th>240</th>\n",
       "      <td>32603</td>\n",
       "      <td>29916.0</td>\n",
       "    </tr>\n",
       "  </tbody>\n",
       "</table>\n",
       "<p>120 rows × 2 columns</p>\n",
       "</div>"
      ],
      "text/plain": [
       "     Actual  Predicted\n",
       "491   24541    47425.0\n",
       "4     81002    62873.0\n",
       "64    62158    62067.0\n",
       "407   33138    42063.0\n",
       "61    26972    27520.0\n",
       "..      ...        ...\n",
       "325   94013    91462.0\n",
       "139   50087    60822.0\n",
       "335   33301    43128.0\n",
       "457   11804    17440.0\n",
       "240   32603    29916.0\n",
       "\n",
       "[120 rows x 2 columns]"
      ]
     },
     "execution_count": 215,
     "metadata": {},
     "output_type": "execute_result"
    }
   ],
   "source": [
    "df2=pd.DataFrame({'Actual':y1_test, 'Predicted':y_pred})\n",
    "df2"
   ]
  },
  {
   "cell_type": "code",
   "execution_count": 216,
   "id": "2eca16e0",
   "metadata": {},
   "outputs": [
    {
     "name": "stdout",
     "output_type": "stream",
     "text": [
      "Mean Absolute Error: 7735.45\n",
      "Mean Squared Error: 118267296.66666667\n",
      "Root Mean Squared Error: 10875.076857965954\n"
     ]
    }
   ],
   "source": [
    "from sklearn import metrics\n",
    "print('Mean Absolute Error:', metrics.mean_absolute_error(y1_test, y_pred))\n",
    "print('Mean Squared Error:', metrics.mean_squared_error(y1_test, y_pred))\n",
    "print('Root Mean Squared Error:', np.sqrt(metrics.mean_squared_error(y1_test, y_pred)))"
   ]
  },
  {
   "cell_type": "code",
   "execution_count": 217,
   "id": "606f2b98",
   "metadata": {},
   "outputs": [
    {
     "data": {
      "text/plain": [
       "Text(0.5, 0, 'Actuals')"
      ]
     },
     "execution_count": 217,
     "metadata": {},
     "output_type": "execute_result"
    },
    {
     "data": {
      "image/png": "[encoded data removed]",
      "text/plain": [
       "<Figure size 432x288 with 1 Axes>"
      ]
     },
     "metadata": {
      "needs_background": "light"
     },
     "output_type": "display_data"
    }
   ],
   "source": [
    "plt.scatter(x=df2['Actual'], y=df2['Predicted'])\n",
    "plt.ylabel('Predicted')\n",
    "plt.xlabel('Actuals')"
   ]
  },
  {
   "cell_type": "markdown",
   "id": "657288dc",
   "metadata": {},
   "source": [
    "# GridSearch Cross Validation"
   ]
  },
  {
   "cell_type": "code",
   "execution_count": 246,
   "id": "b482d0ed",
   "metadata": {},
   "outputs": [
    {
     "name": "stdout",
     "output_type": "stream",
     "text": [
      "0.9998851794358299 {'max_depth': 19}\n"
     ]
    }
   ],
   "source": [
    "y3 = df_norm.pop(\"Taxable.Income\")\n",
    "x3 = df_norm.iloc[:,1:7]\n",
    "\n",
    "parameters = {'max_depth':range(3,20)}\n",
    "clf = GridSearchCV(tree.DecisionTreeRegressor(), parameters, n_jobs=4)\n",
    "clf.fit(X=x3, y=y3)\n",
    "tree_model = clf.best_estimator_\n",
    "print (clf.best_score_, clf.best_params_) "
   ]
  },
  {
   "cell_type": "code",
   "execution_count": 249,
   "id": "f26e7881",
   "metadata": {},
   "outputs": [],
   "source": [
    "y_pred2 = clf.predict(x3)"
   ]
  },
  {
   "cell_type": "code",
   "execution_count": 250,
   "id": "65c2a727",
   "metadata": {},
   "outputs": [
    {
     "data": {
      "text/html": [
       "<div>\n",
       "<style scoped>\n",
       "    .dataframe tbody tr th:only-of-type {\n",
       "        vertical-align: middle;\n",
       "    }\n",
       "\n",
       "    .dataframe tbody tr th {\n",
       "        vertical-align: top;\n",
       "    }\n",
       "\n",
       "    .dataframe thead th {\n",
       "        text-align: right;\n",
       "    }\n",
       "</style>\n",
       "<table border=\"1\" class=\"dataframe\">\n",
       "  <thead>\n",
       "    <tr style=\"text-align: right;\">\n",
       "      <th></th>\n",
       "      <th>Actual</th>\n",
       "      <th>Predicted</th>\n",
       "    </tr>\n",
       "  </thead>\n",
       "  <tbody>\n",
       "    <tr>\n",
       "      <th>0</th>\n",
       "      <td>0.808811</td>\n",
       "      <td>0.808811</td>\n",
       "    </tr>\n",
       "    <tr>\n",
       "      <th>1</th>\n",
       "      <td>0.243769</td>\n",
       "      <td>0.243769</td>\n",
       "    </tr>\n",
       "    <tr>\n",
       "      <th>2</th>\n",
       "      <td>0.224597</td>\n",
       "      <td>0.224597</td>\n",
       "    </tr>\n",
       "    <tr>\n",
       "      <th>3</th>\n",
       "      <td>0.251359</td>\n",
       "      <td>0.251359</td>\n",
       "    </tr>\n",
       "    <tr>\n",
       "      <th>4</th>\n",
       "      <td>0.946800</td>\n",
       "      <td>0.946800</td>\n",
       "    </tr>\n",
       "    <tr>\n",
       "      <th>...</th>\n",
       "      <td>...</td>\n",
       "      <td>...</td>\n",
       "    </tr>\n",
       "    <tr>\n",
       "      <th>595</th>\n",
       "      <td>0.888190</td>\n",
       "      <td>0.888190</td>\n",
       "    </tr>\n",
       "    <tr>\n",
       "      <th>596</th>\n",
       "      <td>0.784163</td>\n",
       "      <td>0.784163</td>\n",
       "    </tr>\n",
       "    <tr>\n",
       "      <th>597</th>\n",
       "      <td>0.293698</td>\n",
       "      <td>0.293698</td>\n",
       "    </tr>\n",
       "    <tr>\n",
       "      <th>598</th>\n",
       "      <td>0.480221</td>\n",
       "      <td>0.480221</td>\n",
       "    </tr>\n",
       "    <tr>\n",
       "      <th>599</th>\n",
       "      <td>0.520977</td>\n",
       "      <td>0.520977</td>\n",
       "    </tr>\n",
       "  </tbody>\n",
       "</table>\n",
       "<p>600 rows × 2 columns</p>\n",
       "</div>"
      ],
      "text/plain": [
       "       Actual  Predicted\n",
       "0    0.808811   0.808811\n",
       "1    0.243769   0.243769\n",
       "2    0.224597   0.224597\n",
       "3    0.251359   0.251359\n",
       "4    0.946800   0.946800\n",
       "..        ...        ...\n",
       "595  0.888190   0.888190\n",
       "596  0.784163   0.784163\n",
       "597  0.293698   0.293698\n",
       "598  0.480221   0.480221\n",
       "599  0.520977   0.520977\n",
       "\n",
       "[600 rows x 2 columns]"
      ]
     },
     "execution_count": 250,
     "metadata": {},
     "output_type": "execute_result"
    }
   ],
   "source": [
    "df3=pd.DataFrame({'Actual':y3, 'Predicted':y_pred2})\n",
    "df3"
   ]
  },
  {
   "cell_type": "code",
   "execution_count": 252,
   "id": "a160a6ce",
   "metadata": {},
   "outputs": [
    {
     "name": "stdout",
     "output_type": "stream",
     "text": [
      "Mean Absolute Error: 0.0\n",
      "Mean Squared Error: 0.0\n",
      "Root Mean Squared Error: 0.0\n"
     ]
    }
   ],
   "source": [
    "from sklearn import metrics\n",
    "print('Mean Absolute Error:', metrics.mean_absolute_error(y3, y_pred))\n",
    "print('Mean Squared Error:', metrics.mean_squared_error(y3, y_pred))\n",
    "print('Root Mean Squared Error:', np.sqrt(metrics.mean_squared_error(y3, y_pred)))"
   ]
  },
  {
   "cell_type": "code",
   "execution_count": 253,
   "id": "4e31151d",
   "metadata": {},
   "outputs": [
    {
     "data": {
      "text/plain": [
       "Text(0.5, 0, 'Actuals')"
      ]
     },
     "execution_count": 253,
     "metadata": {},
     "output_type": "execute_result"
    },
    {
     "data": {
      "image/png": "[encoded data removed]",
      "text/plain": [
       "<Figure size 432x288 with 1 Axes>"
      ]
     },
     "metadata": {
      "needs_background": "light"
     },
     "output_type": "display_data"
    }
   ],
   "source": [
    "plt.scatter(x=df3['Actual'], y=df3['Predicted'])\n",
    "plt.ylabel('Predicted')\n",
    "plt.xlabel('Actuals')"
   ]
  }
 ],
 "metadata": {
  "kernelspec": {
   "display_name": "Python 3 (ipykernel)",
   "language": "python",
   "name": "python3"
  },
  "language_info": {
   "codemirror_mode": {
    "name": "ipython",
    "version": 3
   },
   "file_extension": ".py",
   "mimetype": "text/x-python",
   "name": "python",
   "nbconvert_exporter": "python",
   "pygments_lexer": "ipython3",
   "version": "3.9.12"
  }
 },
 "nbformat": 4,
 "nbformat_minor": 5
}
